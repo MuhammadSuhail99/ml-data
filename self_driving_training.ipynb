{
  "cells": [
    {
      "cell_type": "code",
      "execution_count": null,
      "id": "6aa633af",
      "metadata": {
        "id": "6aa633af"
      },
      "outputs": [],
      "source": [
        "# !pip install tensorflow\n",
        "\n",
        "# !pip install opencv-python\n",
        "\n",
        "# !pip install pandas\n",
        "\n",
        "# !pip install matplotlib\n",
        "\n",
        "# !pip install -U scikit-learn\n",
        "\n",
        "# !pip install imgaug\n",
        "\n",
        "# !pip install numpy"
      ]
    },
    {
      "cell_type": "markdown",
      "id": "dcf0a834",
      "metadata": {
        "id": "dcf0a834"
      },
      "source": [
        "## Imports"
      ]
    },
    {
      "cell_type": "code",
      "execution_count": null,
      "id": "b89eed3a",
      "metadata": {
        "id": "b89eed3a"
      },
      "outputs": [],
      "source": [
        "import pandas as pd\n",
        "import numpy as np\n",
        "import os\n",
        "\n",
        "import matplotlib.pyplot as plt\n",
        "from sklearn.utils import shuffle"
      ]
    },
    {
      "cell_type": "markdown",
      "id": "7fee0bf9",
      "metadata": {
        "id": "7fee0bf9"
      },
      "source": [
        "### Function to import image files"
      ]
    },
    {
      "cell_type": "code",
      "execution_count": null,
      "id": "7251df11",
      "metadata": {
        "id": "7251df11"
      },
      "outputs": [],
      "source": [
        "def getName(filePath):\n",
        "    return filePath.split('\\\\')[-1]\n",
        "\n",
        "def importDataInfo(path):\n",
        "    columns = ['Center', 'Left', 'Right', 'Steering', 'Throttle', 'Brake', 'Speed']\n",
        "    data = pd.read_csv(os.path.join(path, 'driving_log.csv'), names = columns)\n",
        "#### REMOVE FILE PATH AND GET ONLY FILE NAME\n",
        "#     print(data.head())    \n",
        "#     print(data['Center'][0])\n",
        "#     print(getName(data['Center'][0]))\n",
        "    data['Center']=data['Center'].apply(getName)\n",
        "    print(data.head())\n",
        "    print('Total Images Imported',data.shape[0])\n",
        "    return data"
      ]
    },
    {
      "cell_type": "code",
      "execution_count": null,
      "id": "12c1b27f",
      "metadata": {
        "id": "12c1b27f"
      },
      "outputs": [],
      "source": [
        "path = 'myData'\n",
        "data = importDataInfo(path)"
      ]
    },
    {
      "cell_type": "markdown",
      "id": "ac24524e",
      "metadata": {
        "id": "ac24524e"
      },
      "source": [
        "## Visualization and Exploration"
      ]
    },
    {
      "cell_type": "code",
      "execution_count": null,
      "id": "e82b2f2c",
      "metadata": {
        "id": "e82b2f2c"
      },
      "outputs": [],
      "source": [
        "def balanceData(data,display=True):\n",
        "    nBin = 30\n",
        "    samplesPerBin = 1000\n",
        "    hist, bins = np.histogram(data['Steering'], nBin)\n",
        "#     print(bins)\n",
        "    \n",
        "#     center = (bins[:-1] + bins[1:]) * 0.5\n",
        "#     print(center)\n",
        "#     plt.bar(center, hist, width = 0.6)\n",
        "#     plt.plot((-1, 1), (samplesPerBin, samplesPerBin))\n",
        "#     plt.show()\n",
        "\n",
        "    if display:\n",
        "        center = (bins[:-1] + bins[1:]) * 0.5\n",
        "        plt.bar(center, hist, width=0.06)\n",
        "        plt.xlabel('Steering angle')\n",
        "        plt.ylabel('Samples per Bin')\n",
        "        plt.ylim(0, 1500)\n",
        "        plt.plot((np.min(data['Steering']), np.max(data['Steering'])), (samplesPerBin, samplesPerBin))\n",
        "        plt.show()\n",
        "        \n",
        "    removeindexList = []\n",
        "    for j in range(nBin):\n",
        "        binDataList = []\n",
        "        for i in range(len(data['Steering'])):\n",
        "            if data['Steering'][i] >= bins[j] and data['Steering'][i] <= bins[j + 1]:\n",
        "                binDataList.append(i)\n",
        "        binDataList = shuffle(binDataList)\n",
        "        binDataList = binDataList[samplesPerBin:]\n",
        "        removeindexList.extend(binDataList)\n",
        "\n",
        "    print('Removed Images:', len(removeindexList))\n",
        "    data.drop(data.index[removeindexList], inplace=True)\n",
        "    print('Remaining Images:', len(data))\n",
        "    \n",
        "    if display:\n",
        "        hist, _ = np.histogram(data['Steering'], (nBin))\n",
        "        plt.bar(center, hist, width=0.06)\n",
        "        plt.plot((np.min(data['Steering']), np.max(data['Steering'])), (samplesPerBin, samplesPerBin))\n",
        "        plt.show()\n",
        "        \n",
        "    return data"
      ]
    },
    {
      "cell_type": "code",
      "execution_count": null,
      "id": "f9bad470",
      "metadata": {
        "scrolled": false,
        "id": "f9bad470"
      },
      "outputs": [],
      "source": [
        "balanceData(data)"
      ]
    },
    {
      "cell_type": "code",
      "execution_count": null,
      "id": "ddc8a18d",
      "metadata": {
        "id": "ddc8a18d"
      },
      "outputs": [],
      "source": [
        "# data = balanceData(data, display=False)"
      ]
    },
    {
      "cell_type": "markdown",
      "id": "496e9591",
      "metadata": {
        "id": "496e9591"
      },
      "source": [
        "## Data Preprocessing"
      ]
    },
    {
      "cell_type": "code",
      "execution_count": null,
      "id": "67c71477",
      "metadata": {
        "id": "67c71477"
      },
      "outputs": [],
      "source": [
        "def loadData(path, data):\n",
        "    imagesPath = []\n",
        "    steering = []\n",
        "    \n",
        "    for i in range(len(data)):\n",
        "        indexed_data = data.iloc[i]\n",
        "        imagesPath.append(f'{path}/IMG/{indexed_data[0]}')\n",
        "        steering.append(float(indexed_data[3]))\n",
        "    imagesPath = np.asarray(imagesPath)\n",
        "    steering = np.asarray(steering)\n",
        "    return imagesPath, steering"
      ]
    },
    {
      "cell_type": "code",
      "execution_count": null,
      "id": "cff59d8f",
      "metadata": {
        "id": "cff59d8f"
      },
      "outputs": [],
      "source": [
        "imagesPath, steerings = loadData(path,data)\n",
        "# print(imagesPath[0], steerings[0])"
      ]
    },
    {
      "cell_type": "markdown",
      "id": "6445f5d4",
      "metadata": {
        "id": "6445f5d4"
      },
      "source": [
        "### Split data into training and testing"
      ]
    },
    {
      "cell_type": "code",
      "execution_count": null,
      "id": "48ae6e73",
      "metadata": {
        "id": "48ae6e73"
      },
      "outputs": [],
      "source": [
        "from sklearn.model_selection import train_test_split\n",
        "\n",
        "xTrain, xVal, yTrain, yVal = train_test_split(imagesPath, steerings, test_size=0.2,random_state=10)\n",
        "print('Total Training Images: ',len(xTrain))\n",
        "print('Total Validation Images: ',len(xVal))"
      ]
    },
    {
      "cell_type": "markdown",
      "id": "1a4a8216",
      "metadata": {
        "id": "1a4a8216"
      },
      "source": [
        "### Data Augmentation"
      ]
    },
    {
      "cell_type": "code",
      "execution_count": null,
      "id": "a0d3669a",
      "metadata": {
        "id": "a0d3669a"
      },
      "outputs": [],
      "source": [
        "import matplotlib.image as mpimg\n",
        "from imgaug import augmenters as iaa\n",
        "import cv2"
      ]
    },
    {
      "cell_type": "code",
      "execution_count": null,
      "id": "e1cefa5f",
      "metadata": {
        "id": "e1cefa5f"
      },
      "outputs": [],
      "source": [
        "def augmentImage(imgPath,steering):\n",
        "    img =  mpimg.imread(imgPath)\n",
        "    # Pan\n",
        "    if np.random.rand() < 0.5:\n",
        "        pan = iaa.Affine(translate_percent={\"x\": (-0.1, 0.1), \"y\": (-0.1, 0.1)})\n",
        "        img = pan.augment_image(img)\n",
        "    # Zoom\n",
        "    if np.random.rand() < 0.5:\n",
        "        zoom = iaa.Affine(scale=(1, 1.2))\n",
        "        img = zoom.augment_image(img)\n",
        "    # Brigtness\n",
        "    if np.random.rand() < 0.5:\n",
        "        brightness = iaa.Multiply((0.2, 1.2))\n",
        "        img = brightness.augment_image(img)\n",
        "    # Flip\n",
        "    if np.random.rand() < 0.5:\n",
        "        img = cv2.flip(img, 1)\n",
        "        steering = -steering\n",
        "    return img, steering"
      ]
    },
    {
      "cell_type": "code",
      "execution_count": null,
      "id": "7862e6d5",
      "metadata": {
        "id": "7862e6d5"
      },
      "outputs": [],
      "source": [
        "# imgRe, st = augmentImage('test.jpg', 0)\n",
        "# plt.imshow(imgRe)\n",
        "# plt.show()"
      ]
    },
    {
      "cell_type": "markdown",
      "id": "c9903080",
      "metadata": {
        "id": "c9903080"
      },
      "source": [
        "### Preprocessing for training"
      ]
    },
    {
      "cell_type": "code",
      "execution_count": null,
      "id": "08f6d152",
      "metadata": {
        "id": "08f6d152"
      },
      "outputs": [],
      "source": [
        "def preProcess(img):\n",
        "    img = img[60:135,:,:]\n",
        "    img = cv2.cvtColor(img, cv2.COLOR_RGB2YUV)\n",
        "    img = cv2.GaussianBlur(img,  (3, 3), 0)\n",
        "    img = cv2.resize(img, (200, 66))\n",
        "    img = img/255\n",
        "    return img"
      ]
    },
    {
      "cell_type": "code",
      "execution_count": null,
      "id": "10b23196",
      "metadata": {
        "id": "10b23196"
      },
      "outputs": [],
      "source": [
        "imgRe = preProcess(mpimg.imread('test.jpg'))\n",
        "plt.imshow(imgRe)\n",
        "plt.show()"
      ]
    },
    {
      "cell_type": "markdown",
      "id": "982b7de7",
      "metadata": {
        "id": "982b7de7"
      },
      "source": [
        "### Batch size"
      ]
    },
    {
      "cell_type": "code",
      "execution_count": null,
      "id": "1db65631",
      "metadata": {
        "id": "1db65631"
      },
      "outputs": [],
      "source": [
        "import random"
      ]
    },
    {
      "cell_type": "code",
      "execution_count": null,
      "id": "e01a1223",
      "metadata": {
        "id": "e01a1223"
      },
      "outputs": [],
      "source": [
        "def batchGen(imagesPath, steeringList, batchSize, trainFlag):\n",
        "    while True:\n",
        "        imgBatch = []\n",
        "        steeringBatch = []\n",
        "\n",
        "        for i in range(batchSize):\n",
        "            index = random.randint(0, len(imagesPath) - 1)\n",
        "            if trainFlag:\n",
        "                img, steering = augmentImage(imagesPath[index], steeringList[index])\n",
        "            else:\n",
        "                img = mpimg.imread(imagesPath[index])\n",
        "                steering = steeringList[index]\n",
        "            img = preProcess(img)\n",
        "            imgBatch.append(img)\n",
        "            steeringBatch.append(steering)\n",
        "        yield (np.asarray(imgBatch),np.asarray(steeringBatch))"
      ]
    },
    {
      "cell_type": "markdown",
      "id": "623e6007",
      "metadata": {
        "id": "623e6007"
      },
      "source": [
        "## Creating model"
      ]
    },
    {
      "cell_type": "code",
      "execution_count": null,
      "id": "49286e15",
      "metadata": {
        "id": "49286e15"
      },
      "outputs": [],
      "source": [
        "from tensorflow.keras.models import Sequential\n",
        "from tensorflow.keras.layers import Convolution2D, Flatten, Dense\n",
        "from tensorflow.keras.optimizers import Adam"
      ]
    },
    {
      "cell_type": "code",
      "execution_count": null,
      "id": "f8ab2abe",
      "metadata": {
        "id": "f8ab2abe"
      },
      "outputs": [],
      "source": [
        "def createModel():\n",
        "    model = Sequential()\n",
        "    \n",
        "    model.add(Convolution2D(24, (5, 5), (2, 2), input_shape=(66, 200, 3), activation='elu'))\n",
        "    model.add(Convolution2D(36, (5, 5), (2, 2), activation='elu'))\n",
        "    model.add(Convolution2D(48, (5, 5), (2, 2), activation='elu'))\n",
        "    model.add(Convolution2D(64, (3, 3), activation='elu'))\n",
        "    model.add(Convolution2D(64, (3, 3), activation='elu'))\n",
        "\n",
        "    model.add(Flatten())\n",
        "    model.add(Dense(100, activation = 'elu'))\n",
        "    model.add(Dense(50, activation = 'elu'))\n",
        "    model.add(Dense(10, activation = 'elu'))\n",
        "    model.add(Dense(1))\n",
        "\n",
        "    model.compile(Adam(learning_rate=0.0001),loss='mse')\n",
        "    return model"
      ]
    },
    {
      "cell_type": "code",
      "execution_count": null,
      "id": "523466cb",
      "metadata": {
        "id": "523466cb"
      },
      "outputs": [],
      "source": [
        "model = createModel()\n",
        "model.summary()"
      ]
    },
    {
      "cell_type": "markdown",
      "id": "0248e104",
      "metadata": {
        "id": "0248e104"
      },
      "source": [
        "### Model Training"
      ]
    },
    {
      "cell_type": "code",
      "execution_count": null,
      "id": "6e6c8f00",
      "metadata": {
        "id": "6e6c8f00"
      },
      "outputs": [],
      "source": [
        "history = model.fit(batchGen(xTrain, yTrain, 10, 1),\n",
        "                  steps_per_epoch=20,\n",
        "                  epochs=2,\n",
        "                  validation_data=batchGen(xVal, yVal, 10, 0),\n",
        "                  validation_steps=20)"
      ]
    },
    {
      "cell_type": "code",
      "execution_count": null,
      "id": "c2f4d3bc",
      "metadata": {
        "id": "c2f4d3bc"
      },
      "outputs": [],
      "source": [
        "history = model.fit(batchGen(xTrain, yTrain, 100, 1),\n",
        "                      steps_per_epoch=300,\n",
        "                      epochs=10,\n",
        "                      validation_data=batchGen(xVal, yVal, 100, 0),\n",
        "                      validation_steps=200)"
      ]
    },
    {
      "cell_type": "code",
      "execution_count": null,
      "id": "22098115",
      "metadata": {
        "id": "22098115"
      },
      "outputs": [],
      "source": [
        "model.save('model.h5')\n",
        "print('Model Saved')"
      ]
    },
    {
      "cell_type": "code",
      "execution_count": null,
      "id": "506ebbcf",
      "metadata": {
        "id": "506ebbcf"
      },
      "outputs": [],
      "source": [
        "plt.plot(history.history['loss'])\n",
        "plt.plot(history.history['val_loss'])\n",
        "plt.legend(['Training', 'Validation'])\n",
        "plt.ylim(0, 0.2)\n",
        "plt.title('Loss')\n",
        "plt.xlabel('Epoch')\n",
        "plt.show()"
      ]
    },
    {
      "cell_type": "code",
      "execution_count": null,
      "id": "dfce4637",
      "metadata": {
        "id": "dfce4637"
      },
      "outputs": [],
      "source": []
    }
  ],
  "metadata": {
    "kernelspec": {
      "display_name": "Python 3 (ipykernel)",
      "language": "python",
      "name": "python3"
    },
    "language_info": {
      "codemirror_mode": {
        "name": "ipython",
        "version": 3
      },
      "file_extension": ".py",
      "mimetype": "text/x-python",
      "name": "python",
      "nbconvert_exporter": "python",
      "pygments_lexer": "ipython3",
      "version": "3.9.15"
    },
    "colab": {
      "provenance": []
    }
  },
  "nbformat": 4,
  "nbformat_minor": 5
}